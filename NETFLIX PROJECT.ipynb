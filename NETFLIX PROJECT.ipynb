{
 "cells": [
  {
   "cell_type": "code",
   "execution_count": 1,
   "id": "0d9589c1",
   "metadata": {},
   "outputs": [],
   "source": [
    "import numpy as np\n",
    "import pandas as pd\n",
    "import matplotlib.pyplot as plt\n",
    "%matplotlib inline"
   ]
  },
  {
   "cell_type": "code",
   "execution_count": 2,
   "id": "5d762616",
   "metadata": {},
   "outputs": [
    {
     "data": {
      "text/html": [
       "<div>\n",
       "<style scoped>\n",
       "    .dataframe tbody tr th:only-of-type {\n",
       "        vertical-align: middle;\n",
       "    }\n",
       "\n",
       "    .dataframe tbody tr th {\n",
       "        vertical-align: top;\n",
       "    }\n",
       "\n",
       "    .dataframe thead th {\n",
       "        text-align: right;\n",
       "    }\n",
       "</style>\n",
       "<table border=\"1\" class=\"dataframe\">\n",
       "  <thead>\n",
       "    <tr style=\"text-align: right;\">\n",
       "      <th></th>\n",
       "      <th>show_id</th>\n",
       "      <th>type</th>\n",
       "      <th>title</th>\n",
       "      <th>director</th>\n",
       "      <th>cast</th>\n",
       "      <th>country</th>\n",
       "      <th>date_added</th>\n",
       "      <th>release_year</th>\n",
       "      <th>rating</th>\n",
       "      <th>duration</th>\n",
       "      <th>listed_in</th>\n",
       "      <th>description</th>\n",
       "    </tr>\n",
       "  </thead>\n",
       "  <tbody>\n",
       "    <tr>\n",
       "      <th>0</th>\n",
       "      <td>s1</td>\n",
       "      <td>Movie</td>\n",
       "      <td>Dick Johnson Is Dead</td>\n",
       "      <td>Kirsten Johnson</td>\n",
       "      <td>NaN</td>\n",
       "      <td>United States</td>\n",
       "      <td>September 25, 2021</td>\n",
       "      <td>2020</td>\n",
       "      <td>PG-13</td>\n",
       "      <td>90 min</td>\n",
       "      <td>Documentaries</td>\n",
       "      <td>As her father nears the end of his life, filmm...</td>\n",
       "    </tr>\n",
       "    <tr>\n",
       "      <th>1</th>\n",
       "      <td>s2</td>\n",
       "      <td>TV Show</td>\n",
       "      <td>Blood &amp; Water</td>\n",
       "      <td>NaN</td>\n",
       "      <td>Ama Qamata, Khosi Ngema, Gail Mabalane, Thaban...</td>\n",
       "      <td>South Africa</td>\n",
       "      <td>September 24, 2021</td>\n",
       "      <td>2021</td>\n",
       "      <td>TV-MA</td>\n",
       "      <td>2 Seasons</td>\n",
       "      <td>International TV Shows, TV Dramas, TV Mysteries</td>\n",
       "      <td>After crossing paths at a party, a Cape Town t...</td>\n",
       "    </tr>\n",
       "    <tr>\n",
       "      <th>2</th>\n",
       "      <td>s3</td>\n",
       "      <td>TV Show</td>\n",
       "      <td>Ganglands</td>\n",
       "      <td>Julien Leclercq</td>\n",
       "      <td>Sami Bouajila, Tracy Gotoas, Samuel Jouy, Nabi...</td>\n",
       "      <td>NaN</td>\n",
       "      <td>September 24, 2021</td>\n",
       "      <td>2021</td>\n",
       "      <td>TV-MA</td>\n",
       "      <td>1 Season</td>\n",
       "      <td>Crime TV Shows, International TV Shows, TV Act...</td>\n",
       "      <td>To protect his family from a powerful drug lor...</td>\n",
       "    </tr>\n",
       "    <tr>\n",
       "      <th>3</th>\n",
       "      <td>s4</td>\n",
       "      <td>TV Show</td>\n",
       "      <td>Jailbirds New Orleans</td>\n",
       "      <td>NaN</td>\n",
       "      <td>NaN</td>\n",
       "      <td>NaN</td>\n",
       "      <td>September 24, 2021</td>\n",
       "      <td>2021</td>\n",
       "      <td>TV-MA</td>\n",
       "      <td>1 Season</td>\n",
       "      <td>Docuseries, Reality TV</td>\n",
       "      <td>Feuds, flirtations and toilet talk go down amo...</td>\n",
       "    </tr>\n",
       "    <tr>\n",
       "      <th>4</th>\n",
       "      <td>s5</td>\n",
       "      <td>TV Show</td>\n",
       "      <td>Kota Factory</td>\n",
       "      <td>NaN</td>\n",
       "      <td>Mayur More, Jitendra Kumar, Ranjan Raj, Alam K...</td>\n",
       "      <td>India</td>\n",
       "      <td>September 24, 2021</td>\n",
       "      <td>2021</td>\n",
       "      <td>TV-MA</td>\n",
       "      <td>2 Seasons</td>\n",
       "      <td>International TV Shows, Romantic TV Shows, TV ...</td>\n",
       "      <td>In a city of coaching centers known to train I...</td>\n",
       "    </tr>\n",
       "  </tbody>\n",
       "</table>\n",
       "</div>"
      ],
      "text/plain": [
       "  show_id     type                  title         director  \\\n",
       "0      s1    Movie   Dick Johnson Is Dead  Kirsten Johnson   \n",
       "1      s2  TV Show          Blood & Water              NaN   \n",
       "2      s3  TV Show              Ganglands  Julien Leclercq   \n",
       "3      s4  TV Show  Jailbirds New Orleans              NaN   \n",
       "4      s5  TV Show           Kota Factory              NaN   \n",
       "\n",
       "                                                cast        country  \\\n",
       "0                                                NaN  United States   \n",
       "1  Ama Qamata, Khosi Ngema, Gail Mabalane, Thaban...   South Africa   \n",
       "2  Sami Bouajila, Tracy Gotoas, Samuel Jouy, Nabi...            NaN   \n",
       "3                                                NaN            NaN   \n",
       "4  Mayur More, Jitendra Kumar, Ranjan Raj, Alam K...          India   \n",
       "\n",
       "           date_added  release_year rating   duration  \\\n",
       "0  September 25, 2021          2020  PG-13     90 min   \n",
       "1  September 24, 2021          2021  TV-MA  2 Seasons   \n",
       "2  September 24, 2021          2021  TV-MA   1 Season   \n",
       "3  September 24, 2021          2021  TV-MA   1 Season   \n",
       "4  September 24, 2021          2021  TV-MA  2 Seasons   \n",
       "\n",
       "                                           listed_in  \\\n",
       "0                                      Documentaries   \n",
       "1    International TV Shows, TV Dramas, TV Mysteries   \n",
       "2  Crime TV Shows, International TV Shows, TV Act...   \n",
       "3                             Docuseries, Reality TV   \n",
       "4  International TV Shows, Romantic TV Shows, TV ...   \n",
       "\n",
       "                                         description  \n",
       "0  As her father nears the end of his life, filmm...  \n",
       "1  After crossing paths at a party, a Cape Town t...  \n",
       "2  To protect his family from a powerful drug lor...  \n",
       "3  Feuds, flirtations and toilet talk go down amo...  \n",
       "4  In a city of coaching centers known to train I...  "
      ]
     },
     "execution_count": 2,
     "metadata": {},
     "output_type": "execute_result"
    }
   ],
   "source": [
    "net=pd.read_csv(\"netflix_titles.csv\")\n",
    "net.head()"
   ]
  },
  {
   "cell_type": "code",
   "execution_count": 3,
   "id": "dfc4b5d5",
   "metadata": {},
   "outputs": [
    {
     "data": {
      "text/plain": [
       "Index(['show_id', 'type', 'title', 'director', 'cast', 'country', 'date_added',\n",
       "       'release_year', 'rating', 'duration', 'listed_in', 'description'],\n",
       "      dtype='object')"
      ]
     },
     "execution_count": 3,
     "metadata": {},
     "output_type": "execute_result"
    }
   ],
   "source": [
    "net.columns"
   ]
  },
  {
   "cell_type": "markdown",
   "id": "af02c7e4",
   "metadata": {},
   "source": [
    "# DATA CLEANING"
   ]
  },
  {
   "cell_type": "code",
   "execution_count": 4,
   "id": "81decaf5",
   "metadata": {},
   "outputs": [
    {
     "name": "stdout",
     "output_type": "stream",
     "text": [
      "<class 'pandas.core.frame.DataFrame'>\n",
      "RangeIndex: 8807 entries, 0 to 8806\n",
      "Data columns (total 12 columns):\n",
      " #   Column        Non-Null Count  Dtype \n",
      "---  ------        --------------  ----- \n",
      " 0   show_id       8807 non-null   object\n",
      " 1   type          8807 non-null   object\n",
      " 2   title         8807 non-null   object\n",
      " 3   director      6173 non-null   object\n",
      " 4   cast          7982 non-null   object\n",
      " 5   country       7976 non-null   object\n",
      " 6   date_added    8797 non-null   object\n",
      " 7   release_year  8807 non-null   int64 \n",
      " 8   rating        8803 non-null   object\n",
      " 9   duration      8804 non-null   object\n",
      " 10  listed_in     8807 non-null   object\n",
      " 11  description   8807 non-null   object\n",
      "dtypes: int64(1), object(11)\n",
      "memory usage: 825.8+ KB\n"
     ]
    }
   ],
   "source": [
    "net.info()"
   ]
  },
  {
   "cell_type": "code",
   "execution_count": 5,
   "id": "d97079cf",
   "metadata": {},
   "outputs": [
    {
     "name": "stdout",
     "output_type": "stream",
     "text": [
      "<class 'pandas.core.frame.DataFrame'>\n",
      "RangeIndex: 8807 entries, 0 to 8806\n",
      "Data columns (total 12 columns):\n",
      " #   Column        Non-Null Count  Dtype         \n",
      "---  ------        --------------  -----         \n",
      " 0   show_id       8807 non-null   object        \n",
      " 1   type          8807 non-null   object        \n",
      " 2   title         8807 non-null   object        \n",
      " 3   director      6173 non-null   object        \n",
      " 4   cast          7982 non-null   object        \n",
      " 5   country       7976 non-null   object        \n",
      " 6   date_added    8797 non-null   datetime64[ns]\n",
      " 7   release_year  8807 non-null   int64         \n",
      " 8   rating        8803 non-null   object        \n",
      " 9   duration      8804 non-null   object        \n",
      " 10  listed_in     8807 non-null   object        \n",
      " 11  description   8807 non-null   object        \n",
      "dtypes: datetime64[ns](1), int64(1), object(10)\n",
      "memory usage: 825.8+ KB\n"
     ]
    }
   ],
   "source": [
    "net[\"date_added\"]=pd.to_datetime(net[\"date_added\"])\n",
    "net.info()"
   ]
  },
  {
   "cell_type": "markdown",
   "id": "c87f20b7",
   "metadata": {},
   "source": [
    "description column seems not useful for this analysis and listed_in column is referred to as categories on netflix ."
   ]
  },
  {
   "cell_type": "code",
   "execution_count": 6,
   "id": "61280ebe",
   "metadata": {},
   "outputs": [],
   "source": [
    "net= net.drop(\"description\", axis= 'columns')\n",
    "net[\"categories\"]=net[\"listed_in\"]\n",
    "net=net.drop(\"listed_in\",axis='columns')\n"
   ]
  },
  {
   "cell_type": "code",
   "execution_count": 7,
   "id": "e8d5f250",
   "metadata": {},
   "outputs": [
    {
     "name": "stdout",
     "output_type": "stream",
     "text": [
      "<class 'pandas.core.frame.DataFrame'>\n",
      "RangeIndex: 8807 entries, 0 to 8806\n",
      "Data columns (total 11 columns):\n",
      " #   Column        Non-Null Count  Dtype         \n",
      "---  ------        --------------  -----         \n",
      " 0   show_id       8807 non-null   object        \n",
      " 1   type          8807 non-null   object        \n",
      " 2   title         8807 non-null   object        \n",
      " 3   director      6173 non-null   object        \n",
      " 4   cast          7982 non-null   object        \n",
      " 5   country       7976 non-null   object        \n",
      " 6   date_added    8797 non-null   datetime64[ns]\n",
      " 7   release_year  8807 non-null   int64         \n",
      " 8   rating        8803 non-null   object        \n",
      " 9   duration      8804 non-null   object        \n",
      " 10  categories    8807 non-null   object        \n",
      "dtypes: datetime64[ns](1), int64(1), object(9)\n",
      "memory usage: 757.0+ KB\n"
     ]
    }
   ],
   "source": [
    "net.info()"
   ]
  },
  {
   "cell_type": "code",
   "execution_count": 8,
   "id": "f33b4f3f",
   "metadata": {},
   "outputs": [
    {
     "data": {
      "text/plain": [
       "show_id            0\n",
       "type               0\n",
       "title              0\n",
       "director        2634\n",
       "cast             825\n",
       "country          831\n",
       "date_added        10\n",
       "release_year       0\n",
       "rating             4\n",
       "duration           3\n",
       "categories         0\n",
       "dtype: int64"
      ]
     },
     "execution_count": 8,
     "metadata": {},
     "output_type": "execute_result"
    }
   ],
   "source": [
    "net.isnull().sum()"
   ]
  },
  {
   "cell_type": "markdown",
   "id": "a044062e",
   "metadata": {},
   "source": [
    "we need to replace the null values in the datasets. \n",
    "the date_added column values are being arranged accordingly, therefore we can down fill empty values downward. The country column can simply be filled with world and the remaining columns are filled with unknow "
   ]
  },
  {
   "cell_type": "code",
   "execution_count": 9,
   "id": "1b0df228",
   "metadata": {},
   "outputs": [],
   "source": [
    "net[\"director\"]=net[\"director\"].fillna(\"unknow\")\n",
    "net[\"cast\"]=net[\"cast\"].fillna(\"unknow\")\n",
    "net[\"country\"]=net[\"country\"].fillna(\"world\")\n",
    "net[\"rating\"]=net[\"rating\"].fillna(\"unknow\")\n",
    "net[\"duration\"]=net[\"duration\"].fillna(\"unknow\")\n",
    "net[\"date_added\"]=net[\"date_added\"].ffill()"
   ]
  },
  {
   "cell_type": "code",
   "execution_count": 10,
   "id": "5d746cb5",
   "metadata": {},
   "outputs": [
    {
     "data": {
      "text/plain": [
       "show_id         0\n",
       "type            0\n",
       "title           0\n",
       "director        0\n",
       "cast            0\n",
       "country         0\n",
       "date_added      0\n",
       "release_year    0\n",
       "rating          0\n",
       "duration        0\n",
       "categories      0\n",
       "dtype: int64"
      ]
     },
     "execution_count": 10,
     "metadata": {},
     "output_type": "execute_result"
    }
   ],
   "source": [
    "net.isnull().sum()"
   ]
  },
  {
   "cell_type": "code",
   "execution_count": 11,
   "id": "d6dcc3c9",
   "metadata": {},
   "outputs": [],
   "source": [
    "net[\"month\"]= net[\"date_added\"].dt.month\n",
    "net[\"year\"]=net[\"date_added\"].dt.year\n",
    "net[\"month name\"]= net[\"month\"].replace({1: \"January\",2: \"February\",3:\"March\",4:\"April\",\n",
    "                                         5:\"May\",6:\"June\",7:\"July\",8:\"August\",9:\"September\",\n",
    "                                        10:\"October\",11:\"November\",12:\"December\"})"
   ]
  },
  {
   "cell_type": "code",
   "execution_count": 12,
   "id": "8f2d9b20",
   "metadata": {},
   "outputs": [],
   "source": [
    "net=net.drop(\"month\",axis='columns')"
   ]
  },
  {
   "cell_type": "code",
   "execution_count": 13,
   "id": "1d0cfbbf",
   "metadata": {},
   "outputs": [
    {
     "data": {
      "text/plain": [
       "False    8807\n",
       "dtype: int64"
      ]
     },
     "execution_count": 13,
     "metadata": {},
     "output_type": "execute_result"
    }
   ],
   "source": [
    "net.duplicated().value_counts()"
   ]
  },
  {
   "cell_type": "code",
   "execution_count": 14,
   "id": "55aa1208",
   "metadata": {},
   "outputs": [
    {
     "data": {
      "text/plain": [
       "False    8807\n",
       "Name: title, dtype: int64"
      ]
     },
     "execution_count": 14,
     "metadata": {},
     "output_type": "execute_result"
    }
   ],
   "source": [
    "net[\"title\"].duplicated().value_counts()"
   ]
  },
  {
   "cell_type": "markdown",
   "id": "94d1bdf4",
   "metadata": {},
   "source": [
    "no entries was repeated twice and no title was repeated twice"
   ]
  },
  {
   "cell_type": "code",
   "execution_count": 15,
   "id": "b787afd1",
   "metadata": {},
   "outputs": [
    {
     "data": {
      "text/html": [
       "<div>\n",
       "<style scoped>\n",
       "    .dataframe tbody tr th:only-of-type {\n",
       "        vertical-align: middle;\n",
       "    }\n",
       "\n",
       "    .dataframe tbody tr th {\n",
       "        vertical-align: top;\n",
       "    }\n",
       "\n",
       "    .dataframe thead th {\n",
       "        text-align: right;\n",
       "    }\n",
       "</style>\n",
       "<table border=\"1\" class=\"dataframe\">\n",
       "  <thead>\n",
       "    <tr style=\"text-align: right;\">\n",
       "      <th></th>\n",
       "      <th>show_id</th>\n",
       "      <th>type</th>\n",
       "      <th>title</th>\n",
       "      <th>director</th>\n",
       "      <th>cast</th>\n",
       "      <th>country</th>\n",
       "      <th>date_added</th>\n",
       "      <th>release_year</th>\n",
       "      <th>rating</th>\n",
       "      <th>duration</th>\n",
       "      <th>categories</th>\n",
       "      <th>year</th>\n",
       "      <th>month name</th>\n",
       "    </tr>\n",
       "  </thead>\n",
       "  <tbody>\n",
       "    <tr>\n",
       "      <th>0</th>\n",
       "      <td>s1</td>\n",
       "      <td>Movie</td>\n",
       "      <td>Dick Johnson Is Dead</td>\n",
       "      <td>Kirsten Johnson</td>\n",
       "      <td>unknow</td>\n",
       "      <td>United States</td>\n",
       "      <td>2021-09-25</td>\n",
       "      <td>2020</td>\n",
       "      <td>PG-13</td>\n",
       "      <td>90 min</td>\n",
       "      <td>Documentaries</td>\n",
       "      <td>2021</td>\n",
       "      <td>September</td>\n",
       "    </tr>\n",
       "    <tr>\n",
       "      <th>1</th>\n",
       "      <td>s2</td>\n",
       "      <td>TV Show</td>\n",
       "      <td>Blood &amp; Water</td>\n",
       "      <td>unknow</td>\n",
       "      <td>Ama Qamata, Khosi Ngema, Gail Mabalane, Thaban...</td>\n",
       "      <td>South Africa</td>\n",
       "      <td>2021-09-24</td>\n",
       "      <td>2021</td>\n",
       "      <td>TV-MA</td>\n",
       "      <td>2 Seasons</td>\n",
       "      <td>International TV Shows, TV Dramas, TV Mysteries</td>\n",
       "      <td>2021</td>\n",
       "      <td>September</td>\n",
       "    </tr>\n",
       "    <tr>\n",
       "      <th>2</th>\n",
       "      <td>s3</td>\n",
       "      <td>TV Show</td>\n",
       "      <td>Ganglands</td>\n",
       "      <td>Julien Leclercq</td>\n",
       "      <td>Sami Bouajila, Tracy Gotoas, Samuel Jouy, Nabi...</td>\n",
       "      <td>world</td>\n",
       "      <td>2021-09-24</td>\n",
       "      <td>2021</td>\n",
       "      <td>TV-MA</td>\n",
       "      <td>1 Season</td>\n",
       "      <td>Crime TV Shows, International TV Shows, TV Act...</td>\n",
       "      <td>2021</td>\n",
       "      <td>September</td>\n",
       "    </tr>\n",
       "    <tr>\n",
       "      <th>3</th>\n",
       "      <td>s4</td>\n",
       "      <td>TV Show</td>\n",
       "      <td>Jailbirds New Orleans</td>\n",
       "      <td>unknow</td>\n",
       "      <td>unknow</td>\n",
       "      <td>world</td>\n",
       "      <td>2021-09-24</td>\n",
       "      <td>2021</td>\n",
       "      <td>TV-MA</td>\n",
       "      <td>1 Season</td>\n",
       "      <td>Docuseries, Reality TV</td>\n",
       "      <td>2021</td>\n",
       "      <td>September</td>\n",
       "    </tr>\n",
       "    <tr>\n",
       "      <th>4</th>\n",
       "      <td>s5</td>\n",
       "      <td>TV Show</td>\n",
       "      <td>Kota Factory</td>\n",
       "      <td>unknow</td>\n",
       "      <td>Mayur More, Jitendra Kumar, Ranjan Raj, Alam K...</td>\n",
       "      <td>India</td>\n",
       "      <td>2021-09-24</td>\n",
       "      <td>2021</td>\n",
       "      <td>TV-MA</td>\n",
       "      <td>2 Seasons</td>\n",
       "      <td>International TV Shows, Romantic TV Shows, TV ...</td>\n",
       "      <td>2021</td>\n",
       "      <td>September</td>\n",
       "    </tr>\n",
       "    <tr>\n",
       "      <th>5</th>\n",
       "      <td>s6</td>\n",
       "      <td>TV Show</td>\n",
       "      <td>Midnight Mass</td>\n",
       "      <td>Mike Flanagan</td>\n",
       "      <td>Kate Siegel, Zach Gilford, Hamish Linklater, H...</td>\n",
       "      <td>world</td>\n",
       "      <td>2021-09-24</td>\n",
       "      <td>2021</td>\n",
       "      <td>TV-MA</td>\n",
       "      <td>1 Season</td>\n",
       "      <td>TV Dramas, TV Horror, TV Mysteries</td>\n",
       "      <td>2021</td>\n",
       "      <td>September</td>\n",
       "    </tr>\n",
       "    <tr>\n",
       "      <th>6</th>\n",
       "      <td>s7</td>\n",
       "      <td>Movie</td>\n",
       "      <td>My Little Pony: A New Generation</td>\n",
       "      <td>Robert Cullen, José Luis Ucha</td>\n",
       "      <td>Vanessa Hudgens, Kimiko Glenn, James Marsden, ...</td>\n",
       "      <td>world</td>\n",
       "      <td>2021-09-24</td>\n",
       "      <td>2021</td>\n",
       "      <td>PG</td>\n",
       "      <td>91 min</td>\n",
       "      <td>Children &amp; Family Movies</td>\n",
       "      <td>2021</td>\n",
       "      <td>September</td>\n",
       "    </tr>\n",
       "    <tr>\n",
       "      <th>7</th>\n",
       "      <td>s8</td>\n",
       "      <td>Movie</td>\n",
       "      <td>Sankofa</td>\n",
       "      <td>Haile Gerima</td>\n",
       "      <td>Kofi Ghanaba, Oyafunmike Ogunlano, Alexandra D...</td>\n",
       "      <td>United States, Ghana, Burkina Faso, United Kin...</td>\n",
       "      <td>2021-09-24</td>\n",
       "      <td>1993</td>\n",
       "      <td>TV-MA</td>\n",
       "      <td>125 min</td>\n",
       "      <td>Dramas, Independent Movies, International Movies</td>\n",
       "      <td>2021</td>\n",
       "      <td>September</td>\n",
       "    </tr>\n",
       "    <tr>\n",
       "      <th>8</th>\n",
       "      <td>s9</td>\n",
       "      <td>TV Show</td>\n",
       "      <td>The Great British Baking Show</td>\n",
       "      <td>Andy Devonshire</td>\n",
       "      <td>Mel Giedroyc, Sue Perkins, Mary Berry, Paul Ho...</td>\n",
       "      <td>United Kingdom</td>\n",
       "      <td>2021-09-24</td>\n",
       "      <td>2021</td>\n",
       "      <td>TV-14</td>\n",
       "      <td>9 Seasons</td>\n",
       "      <td>British TV Shows, Reality TV</td>\n",
       "      <td>2021</td>\n",
       "      <td>September</td>\n",
       "    </tr>\n",
       "    <tr>\n",
       "      <th>9</th>\n",
       "      <td>s10</td>\n",
       "      <td>Movie</td>\n",
       "      <td>The Starling</td>\n",
       "      <td>Theodore Melfi</td>\n",
       "      <td>Melissa McCarthy, Chris O'Dowd, Kevin Kline, T...</td>\n",
       "      <td>United States</td>\n",
       "      <td>2021-09-24</td>\n",
       "      <td>2021</td>\n",
       "      <td>PG-13</td>\n",
       "      <td>104 min</td>\n",
       "      <td>Comedies, Dramas</td>\n",
       "      <td>2021</td>\n",
       "      <td>September</td>\n",
       "    </tr>\n",
       "  </tbody>\n",
       "</table>\n",
       "</div>"
      ],
      "text/plain": [
       "  show_id     type                             title  \\\n",
       "0      s1    Movie              Dick Johnson Is Dead   \n",
       "1      s2  TV Show                     Blood & Water   \n",
       "2      s3  TV Show                         Ganglands   \n",
       "3      s4  TV Show             Jailbirds New Orleans   \n",
       "4      s5  TV Show                      Kota Factory   \n",
       "5      s6  TV Show                     Midnight Mass   \n",
       "6      s7    Movie  My Little Pony: A New Generation   \n",
       "7      s8    Movie                           Sankofa   \n",
       "8      s9  TV Show     The Great British Baking Show   \n",
       "9     s10    Movie                      The Starling   \n",
       "\n",
       "                        director  \\\n",
       "0                Kirsten Johnson   \n",
       "1                         unknow   \n",
       "2                Julien Leclercq   \n",
       "3                         unknow   \n",
       "4                         unknow   \n",
       "5                  Mike Flanagan   \n",
       "6  Robert Cullen, José Luis Ucha   \n",
       "7                   Haile Gerima   \n",
       "8                Andy Devonshire   \n",
       "9                 Theodore Melfi   \n",
       "\n",
       "                                                cast  \\\n",
       "0                                             unknow   \n",
       "1  Ama Qamata, Khosi Ngema, Gail Mabalane, Thaban...   \n",
       "2  Sami Bouajila, Tracy Gotoas, Samuel Jouy, Nabi...   \n",
       "3                                             unknow   \n",
       "4  Mayur More, Jitendra Kumar, Ranjan Raj, Alam K...   \n",
       "5  Kate Siegel, Zach Gilford, Hamish Linklater, H...   \n",
       "6  Vanessa Hudgens, Kimiko Glenn, James Marsden, ...   \n",
       "7  Kofi Ghanaba, Oyafunmike Ogunlano, Alexandra D...   \n",
       "8  Mel Giedroyc, Sue Perkins, Mary Berry, Paul Ho...   \n",
       "9  Melissa McCarthy, Chris O'Dowd, Kevin Kline, T...   \n",
       "\n",
       "                                             country date_added  release_year  \\\n",
       "0                                      United States 2021-09-25          2020   \n",
       "1                                       South Africa 2021-09-24          2021   \n",
       "2                                              world 2021-09-24          2021   \n",
       "3                                              world 2021-09-24          2021   \n",
       "4                                              India 2021-09-24          2021   \n",
       "5                                              world 2021-09-24          2021   \n",
       "6                                              world 2021-09-24          2021   \n",
       "7  United States, Ghana, Burkina Faso, United Kin... 2021-09-24          1993   \n",
       "8                                     United Kingdom 2021-09-24          2021   \n",
       "9                                      United States 2021-09-24          2021   \n",
       "\n",
       "  rating   duration                                         categories  year  \\\n",
       "0  PG-13     90 min                                      Documentaries  2021   \n",
       "1  TV-MA  2 Seasons    International TV Shows, TV Dramas, TV Mysteries  2021   \n",
       "2  TV-MA   1 Season  Crime TV Shows, International TV Shows, TV Act...  2021   \n",
       "3  TV-MA   1 Season                             Docuseries, Reality TV  2021   \n",
       "4  TV-MA  2 Seasons  International TV Shows, Romantic TV Shows, TV ...  2021   \n",
       "5  TV-MA   1 Season                 TV Dramas, TV Horror, TV Mysteries  2021   \n",
       "6     PG     91 min                           Children & Family Movies  2021   \n",
       "7  TV-MA    125 min   Dramas, Independent Movies, International Movies  2021   \n",
       "8  TV-14  9 Seasons                       British TV Shows, Reality TV  2021   \n",
       "9  PG-13    104 min                                   Comedies, Dramas  2021   \n",
       "\n",
       "  month name  \n",
       "0  September  \n",
       "1  September  \n",
       "2  September  \n",
       "3  September  \n",
       "4  September  \n",
       "5  September  \n",
       "6  September  \n",
       "7  September  \n",
       "8  September  \n",
       "9  September  "
      ]
     },
     "execution_count": 15,
     "metadata": {},
     "output_type": "execute_result"
    }
   ],
   "source": [
    "net.head(10)"
   ]
  },
  {
   "cell_type": "markdown",
   "id": "cf788c64",
   "metadata": {},
   "source": [
    "DATA EXPLORATION AND ANALYSIS"
   ]
  },
  {
   "cell_type": "code",
   "execution_count": 16,
   "id": "b9958aa0",
   "metadata": {},
   "outputs": [],
   "source": [
    "## 1. MOST ADDED AND RELEASED type across the world"
   ]
  },
  {
   "cell_type": "code",
   "execution_count": 17,
   "id": "f39e4d3e",
   "metadata": {},
   "outputs": [
    {
     "data": {
      "text/plain": [
       "Movie      6131\n",
       "TV Show    2676\n",
       "Name: type, dtype: int64"
      ]
     },
     "execution_count": 17,
     "metadata": {},
     "output_type": "execute_result"
    }
   ],
   "source": [
    "net[\"type\"].value_counts()"
   ]
  },
  {
   "cell_type": "code",
   "execution_count": 18,
   "id": "8a09856e",
   "metadata": {
    "scrolled": true
   },
   "outputs": [
    {
     "data": {
      "text/plain": [
       "<AxesSubplot:title={'center':'Ratio of different type'}, ylabel='type'>"
      ]
     },
     "execution_count": 18,
     "metadata": {},
     "output_type": "execute_result"
    },
    {
     "data": {
      "image/png": "[encoded data removed]",
      "text/plain": [
       "<Figure size 432x288 with 1 Axes>"
      ]
     },
     "metadata": {},
     "output_type": "display_data"
    }
   ],
   "source": [
    "net[\"type\"].value_counts().plot(kind='pie', title='Ratio of different type')"
   ]
  },
  {
   "cell_type": "code",
   "execution_count": 19,
   "id": "398d6aa4",
   "metadata": {},
   "outputs": [],
   "source": [
    "##2. TOP 10 DIRECTORS ACROSS THE WORLD"
   ]
  },
  {
   "cell_type": "code",
   "execution_count": 20,
   "id": "ad5336cc",
   "metadata": {},
   "outputs": [
    {
     "data": {
      "text/plain": [
       "Rajiv Chilaka             19\n",
       "Raúl Campos, Jan Suter    18\n",
       "Suhas Kadav               16\n",
       "Marcus Raboy              16\n",
       "Jay Karas                 14\n",
       "Cathy Garcia-Molina       13\n",
       "Youssef Chahine           12\n",
       "Jay Chapman               12\n",
       "Martin Scorsese           12\n",
       "Steven Spielberg          11\n",
       "Name: director, dtype: int64"
      ]
     },
     "execution_count": 20,
     "metadata": {},
     "output_type": "execute_result"
    }
   ],
   "source": [
    "director_10=net[\"director\"].value_counts()[:11]\n",
    "director_10=director_10.drop(\"unknow\")\n",
    "director_10"
   ]
  },
  {
   "cell_type": "code",
   "execution_count": 21,
   "id": "9ecda33e",
   "metadata": {},
   "outputs": [
    {
     "data": {
      "text/plain": [
       "<AxesSubplot:title={'center':'Top 10 directors of movies'}>"
      ]
     },
     "execution_count": 21,
     "metadata": {},
     "output_type": "execute_result"
    },
    {
     "data": {
      "image/png": "[encoded data removed]",
      "text/plain": [
       "<Figure size 720x576 with 1 Axes>"
      ]
     },
     "metadata": {
      "needs_background": "light"
     },
     "output_type": "display_data"
    }
   ],
   "source": [
    "director_10.plot(kind='bar',figsize=(10,8),title='Top 10 directors of movies')"
   ]
  },
  {
   "cell_type": "code",
   "execution_count": 22,
   "id": "d0dae1c3",
   "metadata": {},
   "outputs": [],
   "source": [
    "## 3. TOP 10 COUNTRIES IN RELEASING TO NETFLIX "
   ]
  },
  {
   "cell_type": "code",
   "execution_count": 23,
   "id": "dadf77da",
   "metadata": {},
   "outputs": [
    {
     "data": {
      "text/plain": [
       "United States     2818\n",
       "India              972\n",
       "United Kingdom     419\n",
       "Japan              245\n",
       "South Korea        199\n",
       "Canada             181\n",
       "Spain              145\n",
       "France             124\n",
       "Mexico             110\n",
       "Egypt              106\n",
       "Name: country, dtype: int64"
      ]
     },
     "execution_count": 23,
     "metadata": {},
     "output_type": "execute_result"
    }
   ],
   "source": [
    "country_10=net[\"country\"].value_counts()[:11]\n",
    "country_10=country_10.drop(\"world\")\n",
    "country_10"
   ]
  },
  {
   "cell_type": "code",
   "execution_count": 24,
   "id": "a1171cb8",
   "metadata": {},
   "outputs": [
    {
     "data": {
      "text/plain": [
       "<AxesSubplot:title={'center':'Top 10 countries where movie are produced'}>"
      ]
     },
     "execution_count": 24,
     "metadata": {},
     "output_type": "execute_result"
    },
    {
     "data": {
      "image/png": "[encoded data removed]",
      "text/plain": [
       "<Figure size 720x576 with 1 Axes>"
      ]
     },
     "metadata": {
      "needs_background": "light"
     },
     "output_type": "display_data"
    }
   ],
   "source": [
    "country_10.plot(kind='barh', figsize=(10,8), title= 'Top 10 countries where movie are produced')"
   ]
  },
  {
   "cell_type": "code",
   "execution_count": 25,
   "id": "1c7d5752",
   "metadata": {},
   "outputs": [],
   "source": [
    "## 4. NUMBER OF RELEASE FOR EACH YEAR"
   ]
  },
  {
   "cell_type": "code",
   "execution_count": 26,
   "id": "0647d454",
   "metadata": {},
   "outputs": [
    {
     "data": {
      "text/html": [
       "<div>\n",
       "<style scoped>\n",
       "    .dataframe tbody tr th:only-of-type {\n",
       "        vertical-align: middle;\n",
       "    }\n",
       "\n",
       "    .dataframe tbody tr th {\n",
       "        vertical-align: top;\n",
       "    }\n",
       "\n",
       "    .dataframe thead th {\n",
       "        text-align: right;\n",
       "    }\n",
       "</style>\n",
       "<table border=\"1\" class=\"dataframe\">\n",
       "  <thead>\n",
       "    <tr style=\"text-align: right;\">\n",
       "      <th></th>\n",
       "      <th>year1</th>\n",
       "      <th>release_year</th>\n",
       "    </tr>\n",
       "  </thead>\n",
       "  <tbody>\n",
       "    <tr>\n",
       "      <th>0</th>\n",
       "      <td>1925</td>\n",
       "      <td>1</td>\n",
       "    </tr>\n",
       "    <tr>\n",
       "      <th>1</th>\n",
       "      <td>1942</td>\n",
       "      <td>2</td>\n",
       "    </tr>\n",
       "    <tr>\n",
       "      <th>2</th>\n",
       "      <td>1943</td>\n",
       "      <td>3</td>\n",
       "    </tr>\n",
       "    <tr>\n",
       "      <th>3</th>\n",
       "      <td>1944</td>\n",
       "      <td>3</td>\n",
       "    </tr>\n",
       "    <tr>\n",
       "      <th>4</th>\n",
       "      <td>1945</td>\n",
       "      <td>4</td>\n",
       "    </tr>\n",
       "    <tr>\n",
       "      <th>...</th>\n",
       "      <td>...</td>\n",
       "      <td>...</td>\n",
       "    </tr>\n",
       "    <tr>\n",
       "      <th>69</th>\n",
       "      <td>2017</td>\n",
       "      <td>1032</td>\n",
       "    </tr>\n",
       "    <tr>\n",
       "      <th>70</th>\n",
       "      <td>2018</td>\n",
       "      <td>1147</td>\n",
       "    </tr>\n",
       "    <tr>\n",
       "      <th>71</th>\n",
       "      <td>2019</td>\n",
       "      <td>1030</td>\n",
       "    </tr>\n",
       "    <tr>\n",
       "      <th>72</th>\n",
       "      <td>2020</td>\n",
       "      <td>953</td>\n",
       "    </tr>\n",
       "    <tr>\n",
       "      <th>73</th>\n",
       "      <td>2021</td>\n",
       "      <td>592</td>\n",
       "    </tr>\n",
       "  </tbody>\n",
       "</table>\n",
       "<p>74 rows × 2 columns</p>\n",
       "</div>"
      ],
      "text/plain": [
       "    year1  release_year\n",
       "0    1925             1\n",
       "1    1942             2\n",
       "2    1943             3\n",
       "3    1944             3\n",
       "4    1945             4\n",
       "..    ...           ...\n",
       "69   2017          1032\n",
       "70   2018          1147\n",
       "71   2019          1030\n",
       "72   2020           953\n",
       "73   2021           592\n",
       "\n",
       "[74 rows x 2 columns]"
      ]
     },
     "execution_count": 26,
     "metadata": {},
     "output_type": "execute_result"
    }
   ],
   "source": [
    "release_year=net[\"release_year\"].value_counts()\n",
    "release_year=pd.DataFrame(release_year)\n",
    "release_year=release_year.sort_index(ascending=True)\n",
    "release_year=release_year.rename_axis('year1').reset_index()\n",
    "release_year"
   ]
  },
  {
   "cell_type": "code",
   "execution_count": 27,
   "id": "ec6d0bce",
   "metadata": {},
   "outputs": [
    {
     "data": {
      "text/plain": [
       "<AxesSubplot:title={'center':'total released by year'}, xlabel='year1'>"
      ]
     },
     "execution_count": 27,
     "metadata": {},
     "output_type": "execute_result"
    },
    {
     "data": {
      "image/png": "[encoded data removed]",
      "text/plain": [
       "<Figure size 720x576 with 1 Axes>"
      ]
     },
     "metadata": {
      "needs_background": "light"
     },
     "output_type": "display_data"
    }
   ],
   "source": [
    "release_year.plot(kind='line',x='year1',y='release_year',figsize=(10,8),title='total released by year')"
   ]
  },
  {
   "cell_type": "code",
   "execution_count": 28,
   "id": "75fb1029",
   "metadata": {},
   "outputs": [],
   "source": [
    "## 5. NUMBER OF RELEASE FOR EACH YEAR IN THE 20TH CENTURY"
   ]
  },
  {
   "cell_type": "code",
   "execution_count": 29,
   "id": "2810fa04",
   "metadata": {},
   "outputs": [
    {
     "data": {
      "text/html": [
       "<div>\n",
       "<style scoped>\n",
       "    .dataframe tbody tr th:only-of-type {\n",
       "        vertical-align: middle;\n",
       "    }\n",
       "\n",
       "    .dataframe tbody tr th {\n",
       "        vertical-align: top;\n",
       "    }\n",
       "\n",
       "    .dataframe thead th {\n",
       "        text-align: right;\n",
       "    }\n",
       "</style>\n",
       "<table border=\"1\" class=\"dataframe\">\n",
       "  <thead>\n",
       "    <tr style=\"text-align: right;\">\n",
       "      <th></th>\n",
       "      <th>year</th>\n",
       "      <th>release_year</th>\n",
       "    </tr>\n",
       "  </thead>\n",
       "  <tbody>\n",
       "    <tr>\n",
       "      <th>23</th>\n",
       "      <td>2000</td>\n",
       "      <td>37</td>\n",
       "    </tr>\n",
       "    <tr>\n",
       "      <th>20</th>\n",
       "      <td>2001</td>\n",
       "      <td>45</td>\n",
       "    </tr>\n",
       "    <tr>\n",
       "      <th>19</th>\n",
       "      <td>2002</td>\n",
       "      <td>51</td>\n",
       "    </tr>\n",
       "    <tr>\n",
       "      <th>18</th>\n",
       "      <td>2003</td>\n",
       "      <td>61</td>\n",
       "    </tr>\n",
       "    <tr>\n",
       "      <th>17</th>\n",
       "      <td>2004</td>\n",
       "      <td>64</td>\n",
       "    </tr>\n",
       "    <tr>\n",
       "      <th>16</th>\n",
       "      <td>2005</td>\n",
       "      <td>80</td>\n",
       "    </tr>\n",
       "    <tr>\n",
       "      <th>14</th>\n",
       "      <td>2006</td>\n",
       "      <td>96</td>\n",
       "    </tr>\n",
       "    <tr>\n",
       "      <th>15</th>\n",
       "      <td>2007</td>\n",
       "      <td>88</td>\n",
       "    </tr>\n",
       "    <tr>\n",
       "      <th>13</th>\n",
       "      <td>2008</td>\n",
       "      <td>136</td>\n",
       "    </tr>\n",
       "    <tr>\n",
       "      <th>12</th>\n",
       "      <td>2009</td>\n",
       "      <td>152</td>\n",
       "    </tr>\n",
       "    <tr>\n",
       "      <th>10</th>\n",
       "      <td>2010</td>\n",
       "      <td>194</td>\n",
       "    </tr>\n",
       "    <tr>\n",
       "      <th>11</th>\n",
       "      <td>2011</td>\n",
       "      <td>185</td>\n",
       "    </tr>\n",
       "    <tr>\n",
       "      <th>9</th>\n",
       "      <td>2012</td>\n",
       "      <td>237</td>\n",
       "    </tr>\n",
       "    <tr>\n",
       "      <th>8</th>\n",
       "      <td>2013</td>\n",
       "      <td>288</td>\n",
       "    </tr>\n",
       "    <tr>\n",
       "      <th>7</th>\n",
       "      <td>2014</td>\n",
       "      <td>352</td>\n",
       "    </tr>\n",
       "    <tr>\n",
       "      <th>6</th>\n",
       "      <td>2015</td>\n",
       "      <td>560</td>\n",
       "    </tr>\n",
       "    <tr>\n",
       "      <th>4</th>\n",
       "      <td>2016</td>\n",
       "      <td>902</td>\n",
       "    </tr>\n",
       "    <tr>\n",
       "      <th>1</th>\n",
       "      <td>2017</td>\n",
       "      <td>1032</td>\n",
       "    </tr>\n",
       "    <tr>\n",
       "      <th>0</th>\n",
       "      <td>2018</td>\n",
       "      <td>1147</td>\n",
       "    </tr>\n",
       "    <tr>\n",
       "      <th>2</th>\n",
       "      <td>2019</td>\n",
       "      <td>1030</td>\n",
       "    </tr>\n",
       "    <tr>\n",
       "      <th>3</th>\n",
       "      <td>2020</td>\n",
       "      <td>953</td>\n",
       "    </tr>\n",
       "    <tr>\n",
       "      <th>5</th>\n",
       "      <td>2021</td>\n",
       "      <td>592</td>\n",
       "    </tr>\n",
       "  </tbody>\n",
       "</table>\n",
       "</div>"
      ],
      "text/plain": [
       "    year  release_year\n",
       "23  2000            37\n",
       "20  2001            45\n",
       "19  2002            51\n",
       "18  2003            61\n",
       "17  2004            64\n",
       "16  2005            80\n",
       "14  2006            96\n",
       "15  2007            88\n",
       "13  2008           136\n",
       "12  2009           152\n",
       "10  2010           194\n",
       "11  2011           185\n",
       "9   2012           237\n",
       "8   2013           288\n",
       "7   2014           352\n",
       "6   2015           560\n",
       "4   2016           902\n",
       "1   2017          1032\n",
       "0   2018          1147\n",
       "2   2019          1030\n",
       "3   2020           953\n",
       "5   2021           592"
      ]
     },
     "execution_count": 29,
     "metadata": {},
     "output_type": "execute_result"
    }
   ],
   "source": [
    "release_year2=net[\"release_year\"].value_counts()\n",
    "release_year2\n",
    "release_year2=pd.DataFrame(release_year2)\n",
    "release_year2\n",
    "release_year2=release_year2.rename_axis(\"year\").reset_index()\n",
    "release_year2=release_year2.sort_values(\"year\")\n",
    "release_year2=release_year2.iloc[-22:,]\n",
    "release_year2"
   ]
  },
  {
   "cell_type": "code",
   "execution_count": 30,
   "id": "c7a3fa12",
   "metadata": {},
   "outputs": [
    {
     "data": {
      "text/plain": [
       "<AxesSubplot:title={'center':'number of release for the 20th century'}, xlabel='year'>"
      ]
     },
     "execution_count": 30,
     "metadata": {},
     "output_type": "execute_result"
    },
    {
     "data": {
      "image/png": "[encoded data removed]",
      "text/plain": [
       "<Figure size 720x576 with 1 Axes>"
      ]
     },
     "metadata": {
      "needs_background": "light"
     },
     "output_type": "display_data"
    }
   ],
   "source": [
    "release_year2.plot(kind='line',x='year',y='release_year',figsize=(10,8),title=\"number of release for the 20th century\")"
   ]
  },
  {
   "cell_type": "code",
   "execution_count": 31,
   "id": "ed4759d1",
   "metadata": {},
   "outputs": [],
   "source": [
    "## 6. NUMBER OF ADDED TYPE TO NETFLIX SINCE 2008"
   ]
  },
  {
   "cell_type": "code",
   "execution_count": 32,
   "id": "b5fe1e56",
   "metadata": {},
   "outputs": [
    {
     "data": {
      "text/html": [
       "<div>\n",
       "<style scoped>\n",
       "    .dataframe tbody tr th:only-of-type {\n",
       "        vertical-align: middle;\n",
       "    }\n",
       "\n",
       "    .dataframe tbody tr th {\n",
       "        vertical-align: top;\n",
       "    }\n",
       "\n",
       "    .dataframe thead th {\n",
       "        text-align: right;\n",
       "    }\n",
       "</style>\n",
       "<table border=\"1\" class=\"dataframe\">\n",
       "  <thead>\n",
       "    <tr style=\"text-align: right;\">\n",
       "      <th></th>\n",
       "      <th>year1</th>\n",
       "      <th>year</th>\n",
       "    </tr>\n",
       "  </thead>\n",
       "  <tbody>\n",
       "    <tr>\n",
       "      <th>0</th>\n",
       "      <td>2008</td>\n",
       "      <td>2</td>\n",
       "    </tr>\n",
       "    <tr>\n",
       "      <th>1</th>\n",
       "      <td>2009</td>\n",
       "      <td>2</td>\n",
       "    </tr>\n",
       "    <tr>\n",
       "      <th>2</th>\n",
       "      <td>2010</td>\n",
       "      <td>1</td>\n",
       "    </tr>\n",
       "    <tr>\n",
       "      <th>3</th>\n",
       "      <td>2011</td>\n",
       "      <td>13</td>\n",
       "    </tr>\n",
       "    <tr>\n",
       "      <th>4</th>\n",
       "      <td>2012</td>\n",
       "      <td>3</td>\n",
       "    </tr>\n",
       "    <tr>\n",
       "      <th>5</th>\n",
       "      <td>2013</td>\n",
       "      <td>11</td>\n",
       "    </tr>\n",
       "    <tr>\n",
       "      <th>6</th>\n",
       "      <td>2014</td>\n",
       "      <td>24</td>\n",
       "    </tr>\n",
       "    <tr>\n",
       "      <th>7</th>\n",
       "      <td>2015</td>\n",
       "      <td>82</td>\n",
       "    </tr>\n",
       "    <tr>\n",
       "      <th>8</th>\n",
       "      <td>2016</td>\n",
       "      <td>430</td>\n",
       "    </tr>\n",
       "    <tr>\n",
       "      <th>9</th>\n",
       "      <td>2017</td>\n",
       "      <td>1193</td>\n",
       "    </tr>\n",
       "    <tr>\n",
       "      <th>10</th>\n",
       "      <td>2018</td>\n",
       "      <td>1652</td>\n",
       "    </tr>\n",
       "    <tr>\n",
       "      <th>11</th>\n",
       "      <td>2019</td>\n",
       "      <td>2017</td>\n",
       "    </tr>\n",
       "    <tr>\n",
       "      <th>12</th>\n",
       "      <td>2020</td>\n",
       "      <td>1879</td>\n",
       "    </tr>\n",
       "    <tr>\n",
       "      <th>13</th>\n",
       "      <td>2021</td>\n",
       "      <td>1498</td>\n",
       "    </tr>\n",
       "  </tbody>\n",
       "</table>\n",
       "</div>"
      ],
      "text/plain": [
       "    year1  year\n",
       "0    2008     2\n",
       "1    2009     2\n",
       "2    2010     1\n",
       "3    2011    13\n",
       "4    2012     3\n",
       "5    2013    11\n",
       "6    2014    24\n",
       "7    2015    82\n",
       "8    2016   430\n",
       "9    2017  1193\n",
       "10   2018  1652\n",
       "11   2019  2017\n",
       "12   2020  1879\n",
       "13   2021  1498"
      ]
     },
     "execution_count": 32,
     "metadata": {},
     "output_type": "execute_result"
    }
   ],
   "source": [
    "year=net[\"year\"].value_counts()\n",
    "year=pd.DataFrame(year)\n",
    "year=year.sort_index(ascending=True)\n",
    "year2=year.rename_axis('year1').reset_index()\n",
    "year2"
   ]
  },
  {
   "cell_type": "code",
   "execution_count": 33,
   "id": "bdec019a",
   "metadata": {},
   "outputs": [
    {
     "data": {
      "text/plain": [
       "<AxesSubplot:title={'center':'total added to netflix by year'}, xlabel='year1'>"
      ]
     },
     "execution_count": 33,
     "metadata": {},
     "output_type": "execute_result"
    },
    {
     "data": {
      "image/png": "[encoded data removed]",
      "text/plain": [
       "<Figure size 720x576 with 1 Axes>"
      ]
     },
     "metadata": {
      "needs_background": "light"
     },
     "output_type": "display_data"
    }
   ],
   "source": [
    "year2.plot(kind='line',x='year1',y='year',figsize=(10,8),title='total added to netflix by year')"
   ]
  },
  {
   "cell_type": "code",
   "execution_count": 34,
   "id": "01223d2c",
   "metadata": {},
   "outputs": [],
   "source": [
    "## 7. NUMBER OF ADDED TYPE TO NETFLIX BY MONTHS"
   ]
  },
  {
   "cell_type": "code",
   "execution_count": 35,
   "id": "e3036c1b",
   "metadata": {},
   "outputs": [
    {
     "data": {
      "text/html": [
       "<div>\n",
       "<style scoped>\n",
       "    .dataframe tbody tr th:only-of-type {\n",
       "        vertical-align: middle;\n",
       "    }\n",
       "\n",
       "    .dataframe tbody tr th {\n",
       "        vertical-align: top;\n",
       "    }\n",
       "\n",
       "    .dataframe thead th {\n",
       "        text-align: right;\n",
       "    }\n",
       "</style>\n",
       "<table border=\"1\" class=\"dataframe\">\n",
       "  <thead>\n",
       "    <tr style=\"text-align: right;\">\n",
       "      <th></th>\n",
       "      <th>monthname</th>\n",
       "      <th>month name</th>\n",
       "      <th>monthnumber</th>\n",
       "    </tr>\n",
       "  </thead>\n",
       "  <tbody>\n",
       "    <tr>\n",
       "      <th>7</th>\n",
       "      <td>January</td>\n",
       "      <td>738</td>\n",
       "      <td>1</td>\n",
       "    </tr>\n",
       "    <tr>\n",
       "      <th>11</th>\n",
       "      <td>February</td>\n",
       "      <td>565</td>\n",
       "      <td>2</td>\n",
       "    </tr>\n",
       "    <tr>\n",
       "      <th>6</th>\n",
       "      <td>March</td>\n",
       "      <td>743</td>\n",
       "      <td>3</td>\n",
       "    </tr>\n",
       "    <tr>\n",
       "      <th>3</th>\n",
       "      <td>April</td>\n",
       "      <td>765</td>\n",
       "      <td>4</td>\n",
       "    </tr>\n",
       "    <tr>\n",
       "      <th>10</th>\n",
       "      <td>May</td>\n",
       "      <td>634</td>\n",
       "      <td>5</td>\n",
       "    </tr>\n",
       "    <tr>\n",
       "      <th>8</th>\n",
       "      <td>June</td>\n",
       "      <td>729</td>\n",
       "      <td>6</td>\n",
       "    </tr>\n",
       "    <tr>\n",
       "      <th>0</th>\n",
       "      <td>July</td>\n",
       "      <td>827</td>\n",
       "      <td>7</td>\n",
       "    </tr>\n",
       "    <tr>\n",
       "      <th>5</th>\n",
       "      <td>August</td>\n",
       "      <td>755</td>\n",
       "      <td>8</td>\n",
       "    </tr>\n",
       "    <tr>\n",
       "      <th>2</th>\n",
       "      <td>September</td>\n",
       "      <td>772</td>\n",
       "      <td>9</td>\n",
       "    </tr>\n",
       "    <tr>\n",
       "      <th>4</th>\n",
       "      <td>October</td>\n",
       "      <td>761</td>\n",
       "      <td>10</td>\n",
       "    </tr>\n",
       "    <tr>\n",
       "      <th>9</th>\n",
       "      <td>November</td>\n",
       "      <td>705</td>\n",
       "      <td>11</td>\n",
       "    </tr>\n",
       "    <tr>\n",
       "      <th>1</th>\n",
       "      <td>December</td>\n",
       "      <td>813</td>\n",
       "      <td>12</td>\n",
       "    </tr>\n",
       "  </tbody>\n",
       "</table>\n",
       "</div>"
      ],
      "text/plain": [
       "    monthname  month name  monthnumber\n",
       "7     January         738            1\n",
       "11   February         565            2\n",
       "6       March         743            3\n",
       "3       April         765            4\n",
       "10        May         634            5\n",
       "8        June         729            6\n",
       "0        July         827            7\n",
       "5      August         755            8\n",
       "2   September         772            9\n",
       "4     October         761           10\n",
       "9    November         705           11\n",
       "1    December         813           12"
      ]
     },
     "execution_count": 35,
     "metadata": {},
     "output_type": "execute_result"
    }
   ],
   "source": [
    "month=net[\"month name\"].value_counts()\n",
    "month\n",
    "month=pd.DataFrame(month)\n",
    "\n",
    "month=month.rename_axis('monthname').reset_index()\n",
    "month[\"monthnumber\"]= month[\"monthname\"].replace({\"January\":1, \"February\" :2,\"March\":3,\"April\":4,\n",
    "                                          \"May\":5, \"June\":6, \"July\":7, \"August\":8, \"September\":9,\n",
    "                                         \"October\":10,\"November\":11,\"December\":12})\n",
    "month=month.sort_values(\"monthnumber\")\n",
    "month"
   ]
  },
  {
   "cell_type": "code",
   "execution_count": 36,
   "id": "286e734b",
   "metadata": {},
   "outputs": [
    {
     "data": {
      "text/plain": [
       "<AxesSubplot:title={'center':'total added to netflix by month'}, xlabel='monthname'>"
      ]
     },
     "execution_count": 36,
     "metadata": {},
     "output_type": "execute_result"
    },
    {
     "data": {
      "image/png": "[encoded data removed]",
      "text/plain": [
       "<Figure size 720x576 with 1 Axes>"
      ]
     },
     "metadata": {
      "needs_background": "light"
     },
     "output_type": "display_data"
    }
   ],
   "source": [
    "month.plot(kind='line', x=\"monthname\",y=\"month name\", figsize=(10,8),title='total added to netflix by month')"
   ]
  },
  {
   "cell_type": "code",
   "execution_count": 37,
   "id": "c6ea2ff9",
   "metadata": {},
   "outputs": [],
   "source": [
    "## 8. NUMBER OF ADDED TYPE TO NETFLIX BY FONTH FOR THE LAST 4 YEARS (2018,2019,2020,2021) RESPECTIVELY\n"
   ]
  },
  {
   "cell_type": "code",
   "execution_count": 38,
   "id": "f64ff8d4",
   "metadata": {},
   "outputs": [
    {
     "name": "stdout",
     "output_type": "stream",
     "text": [
      "The years are : 2018,2019,2020,2021  respectively\n"
     ]
    },
    {
     "data": {
      "image/png": "[encoded data removed]",
      "text/plain": [
       "<Figure size 432x288 with 1 Axes>"
      ]
     },
     "metadata": {
      "needs_background": "light"
     },
     "output_type": "display_data"
    },
    {
     "data": {
      "image/png": "[encoded data removed]",
      "text/plain": [
       "<Figure size 432x288 with 1 Axes>"
      ]
     },
     "metadata": {
      "needs_background": "light"
     },
     "output_type": "display_data"
    },
    {
     "data": {
      "image/png": "[encoded data removed]",
      "text/plain": [
       "<Figure size 432x288 with 1 Axes>"
      ]
     },
     "metadata": {
      "needs_background": "light"
     },
     "output_type": "display_data"
    },
    {
     "data": {
      "image/png": "[encoded data removed]",
      "text/plain": [
       "<Figure size 432x288 with 1 Axes>"
      ]
     },
     "metadata": {
      "needs_background": "light"
     },
     "output_type": "display_data"
    }
   ],
   "source": [
    "print(\"The years are : 2018,2019,2020,2021  respectively\")\n",
    "for i in (2018,2019,2020,2021):\n",
    "    yeari=net.where(net[\"release_year\"]==i)\n",
    "    yeari=yeari[\"month name\"].value_counts()\n",
    "    yeari=pd.DataFrame(yeari)\n",
    "    \n",
    "    yeari=yeari.rename_axis('monthname').reset_index()\n",
    "    yeari[\"monthnumber\"]= yeari[\"monthname\"].replace({\"January\":1, \"February\" :2,\"March\":3,\"April\":4,\n",
    "                                          \"May\":5, \"June\":6, \"July\":7, \"August\":8, \"September\":9,\n",
    "                                         \"October\":10,\"November\":11,\"December\":12})\n",
    "    yeari=yeari.sort_values(\"monthnumber\")\n",
    "    \n",
    "    yeari.plot(kind='line', x=\"monthname\",y=\"month name\",title='total added for year to netflix by month')\n"
   ]
  },
  {
   "cell_type": "code",
   "execution_count": 39,
   "id": "dd690282",
   "metadata": {},
   "outputs": [],
   "source": [
    "## 9.  RATING OF NETFLIX RELEASE "
   ]
  },
  {
   "cell_type": "code",
   "execution_count": 40,
   "id": "e06aa741",
   "metadata": {},
   "outputs": [
    {
     "name": "stdout",
     "output_type": "stream",
     "text": [
      "number of rows is :  18\n"
     ]
    }
   ],
   "source": [
    "rating_number=net[\"rating\"].value_counts()\n",
    "rating_number=pd.DataFrame(rating_number)\n",
    "print(\"number of rows is : \",rating_number.size)"
   ]
  },
  {
   "cell_type": "code",
   "execution_count": 41,
   "id": "81e1f48d",
   "metadata": {},
   "outputs": [],
   "source": [
    "top_ratings= rating_number.iloc[0:8,]\n",
    "low_ratings= rating_number.iloc[9:,]\n"
   ]
  },
  {
   "cell_type": "code",
   "execution_count": 42,
   "id": "4e72c776",
   "metadata": {},
   "outputs": [
    {
     "data": {
      "text/plain": [
       "<AxesSubplot:title={'center':'less common ratings'}>"
      ]
     },
     "execution_count": 42,
     "metadata": {},
     "output_type": "execute_result"
    },
    {
     "data": {
      "image/png": "[encoded data removed]",
      "text/plain": [
       "<Figure size 432x288 with 1 Axes>"
      ]
     },
     "metadata": {
      "needs_background": "light"
     },
     "output_type": "display_data"
    },
    {
     "data": {
      "image/png": "[encoded data removed]",
      "text/plain": [
       "<Figure size 432x288 with 1 Axes>"
      ]
     },
     "metadata": {
      "needs_background": "light"
     },
     "output_type": "display_data"
    }
   ],
   "source": [
    "top_ratings.plot(kind=\"bar\",title=\"most common ratings\")\n",
    "low_ratings.plot(kind=\"bar\",title=\"less common ratings\")"
   ]
  },
  {
   "cell_type": "code",
   "execution_count": 43,
   "id": "52499e4e",
   "metadata": {},
   "outputs": [],
   "source": [
    "## 10. TOP 10 NETFLIX DURATION"
   ]
  },
  {
   "cell_type": "code",
   "execution_count": 44,
   "id": "8dde3312",
   "metadata": {
    "scrolled": true
   },
   "outputs": [
    {
     "data": {
      "text/plain": [
       "<AxesSubplot:title={'center':'most released duration type'}, xlabel='duration_type'>"
      ]
     },
     "execution_count": 44,
     "metadata": {},
     "output_type": "execute_result"
    },
    {
     "data": {
      "image/png": "[encoded data removed]",
      "text/plain": [
       "<Figure size 432x288 with 1 Axes>"
      ]
     },
     "metadata": {
      "needs_background": "light"
     },
     "output_type": "display_data"
    }
   ],
   "source": [
    "count=net[\"duration\"].value_counts()[:10]\n",
    "duration=pd.DataFrame(count)\n",
    "duration=duration.rename_axis(\"duration_type\").reset_index()\n",
    "duration.plot(kind=\"bar\",x=\"duration_type\",y=\"duration\",title=\"most released duration type\")"
   ]
  },
  {
   "cell_type": "code",
   "execution_count": 45,
   "id": "14ed04f5",
   "metadata": {},
   "outputs": [],
   "source": [
    "## 11. CATEGORIES OF NETFLIX RELEASE"
   ]
  },
  {
   "cell_type": "code",
   "execution_count": 46,
   "id": "44980fd0",
   "metadata": {},
   "outputs": [],
   "source": [
    "\n",
    "category_split=net[\"categories\"].str.split(\",\")"
   ]
  },
  {
   "cell_type": "code",
   "execution_count": 47,
   "id": "6179ca7c",
   "metadata": {},
   "outputs": [
    {
     "data": {
      "text/html": [
       "<div>\n",
       "<style scoped>\n",
       "    .dataframe tbody tr th:only-of-type {\n",
       "        vertical-align: middle;\n",
       "    }\n",
       "\n",
       "    .dataframe tbody tr th {\n",
       "        vertical-align: top;\n",
       "    }\n",
       "\n",
       "    .dataframe thead th {\n",
       "        text-align: right;\n",
       "    }\n",
       "</style>\n",
       "<table border=\"1\" class=\"dataframe\">\n",
       "  <thead>\n",
       "    <tr style=\"text-align: right;\">\n",
       "      <th></th>\n",
       "      <th>categories</th>\n",
       "    </tr>\n",
       "  </thead>\n",
       "  <tbody>\n",
       "    <tr>\n",
       "      <th>[Dramas,  International Movies]</th>\n",
       "      <td>362</td>\n",
       "    </tr>\n",
       "    <tr>\n",
       "      <th>[Documentaries]</th>\n",
       "      <td>359</td>\n",
       "    </tr>\n",
       "    <tr>\n",
       "      <th>[Stand-Up Comedy]</th>\n",
       "      <td>334</td>\n",
       "    </tr>\n",
       "    <tr>\n",
       "      <th>[Comedies,  Dramas,  International Movies]</th>\n",
       "      <td>274</td>\n",
       "    </tr>\n",
       "    <tr>\n",
       "      <th>[Dramas,  Independent Movies,  International Movies]</th>\n",
       "      <td>252</td>\n",
       "    </tr>\n",
       "    <tr>\n",
       "      <th>[Kids' TV]</th>\n",
       "      <td>220</td>\n",
       "    </tr>\n",
       "    <tr>\n",
       "      <th>[Children &amp; Family Movies]</th>\n",
       "      <td>215</td>\n",
       "    </tr>\n",
       "    <tr>\n",
       "      <th>[Children &amp; Family Movies,  Comedies]</th>\n",
       "      <td>201</td>\n",
       "    </tr>\n",
       "    <tr>\n",
       "      <th>[Documentaries,  International Movies]</th>\n",
       "      <td>186</td>\n",
       "    </tr>\n",
       "    <tr>\n",
       "      <th>[Dramas,  International Movies,  Romantic Movies]</th>\n",
       "      <td>180</td>\n",
       "    </tr>\n",
       "  </tbody>\n",
       "</table>\n",
       "</div>"
      ],
      "text/plain": [
       "                                                    categories\n",
       "[Dramas,  International Movies]                            362\n",
       "[Documentaries]                                            359\n",
       "[Stand-Up Comedy]                                          334\n",
       "[Comedies,  Dramas,  International Movies]                 274\n",
       "[Dramas,  Independent Movies,  International Mo...         252\n",
       "[Kids' TV]                                                 220\n",
       "[Children & Family Movies]                                 215\n",
       "[Children & Family Movies,  Comedies]                      201\n",
       "[Documentaries,  International Movies]                     186\n",
       "[Dramas,  International Movies,  Romantic Movies]          180"
      ]
     },
     "execution_count": 47,
     "metadata": {},
     "output_type": "execute_result"
    }
   ],
   "source": [
    "category_split=category_split.value_counts()[:10]\n",
    "category_split=pd.DataFrame(category_split)\n",
    "category_split"
   ]
  },
  {
   "cell_type": "code",
   "execution_count": 48,
   "id": "d8cf570f",
   "metadata": {},
   "outputs": [
    {
     "data": {
      "text/plain": [
       "<AxesSubplot:title={'center':'top categories shows belong'}>"
      ]
     },
     "execution_count": 48,
     "metadata": {},
     "output_type": "execute_result"
    },
    {
     "data": {
      "image/png": "[encoded data removed]",
      "text/plain": [
       "<Figure size 432x288 with 1 Axes>"
      ]
     },
     "metadata": {
      "needs_background": "light"
     },
     "output_type": "display_data"
    }
   ],
   "source": [
    "category_split.plot(kind='bar',title=\"top categories shows belong\")"
   ]
  },
  {
   "cell_type": "code",
   "execution_count": 49,
   "id": "9a033920",
   "metadata": {},
   "outputs": [],
   "source": [
    "##  TYPE RELEASED FOR EACH years"
   ]
  },
  {
   "cell_type": "code",
   "execution_count": 50,
   "id": "643d19f8",
   "metadata": {},
   "outputs": [
    {
     "data": {
      "image/png": "[encoded data removed]",
      "text/plain": [
       "<Figure size 432x288 with 1 Axes>"
      ]
     },
     "metadata": {
      "needs_background": "light"
     },
     "output_type": "display_data"
    }
   ],
   "source": [
    "typeyear=net[ [\"type\",\"year\"]]\n",
    "movie=typeyear.where(typeyear[\"type\"]==\"Movie\")\n",
    "tv_show=typeyear.where(typeyear[\"type\"]==\"TV Show\")\n",
    "movie=movie[\"year\"].value_counts()\n",
    "movie=pd.DataFrame(movie)\n",
    "movie=movie.rename_axis(\"exact year\").reset_index()\n",
    "movie=movie.sort_values(\"exact year\")\n",
    "tv_show=tv_show[\"year\"].value_counts()\n",
    "tv_show=pd.DataFrame(tv_show)\n",
    "\n",
    "tv_show=tv_show.rename_axis(\"exact year\").reset_index()\n",
    "tv_show=tv_show.sort_values(\"exact year\")\n",
    "\n",
    "plt.bar(movie[\"exact year\"],movie[\"year\"],label=\"movie\")\n",
    "plt.bar(tv_show[\"exact year\"],tv_show[\"year\"],label=\" TV Show\")\n",
    "plt.legend()\n",
    "plt.show()"
   ]
  },
  {
   "cell_type": "code",
   "execution_count": 51,
   "id": "b7766c7a",
   "metadata": {},
   "outputs": [],
   "source": [
    "## tOP 10 COUNTRIES FOR EACH TYPE"
   ]
  },
  {
   "cell_type": "code",
   "execution_count": 52,
   "id": "adf4d636",
   "metadata": {},
   "outputs": [],
   "source": [
    "\n",
    "typecount=net[[\"type\", \"country\"]]\n",
    "movie=typecount.where(typecount[\"type\"]==\"Movie\")\n",
    "tv_show=typecount.where(typecount[\"type\"]==\"TV Show\")\n",
    "\n",
    "movie=movie[\"country\"].value_counts()[:11]\n",
    "movie=pd.DataFrame(movie)\n",
    "movie=movie.drop(\"world\")\n",
    "movie=movie.rename_axis(\"exact country\").reset_index()\n",
    "movie[\"count_for_movie_type\"]=movie[\"country\"]\n",
    "movie=movie.drop(\"country\", axis=\"columns\")\n",
    "\n",
    "tv_show=tv_show[\"country\"].value_counts()[:11]\n",
    "tv_show=pd.DataFrame(tv_show)\n",
    "tv_show=tv_show.drop(\"world\")\n",
    "tv_show=tv_show.rename_axis(\"exact country\").reset_index()\n",
    "tv_show[\"count_for_tv show_type\"]=tv_show[\"country\"]\n",
    "tv_show=tv_show.drop(\"country\", axis=\"columns\")\n"
   ]
  },
  {
   "cell_type": "code",
   "execution_count": 53,
   "id": "215707e4",
   "metadata": {},
   "outputs": [
    {
     "data": {
      "text/plain": [
       "<AxesSubplot:title={'center':'TOP 10 COUNTRIES FOR MOVIE'}, xlabel='exact country'>"
      ]
     },
     "execution_count": 53,
     "metadata": {},
     "output_type": "execute_result"
    },
    {
     "data": {
      "image/png": "[encoded data removed]",
      "text/plain": [
       "<Figure size 432x288 with 1 Axes>"
      ]
     },
     "metadata": {
      "needs_background": "light"
     },
     "output_type": "display_data"
    }
   ],
   "source": [
    "\n",
    "movie.plot(kind='bar',x=\"exact country\",title=\"TOP 10 COUNTRIES FOR MOVIE\")"
   ]
  },
  {
   "cell_type": "code",
   "execution_count": 54,
   "id": "ba188434",
   "metadata": {},
   "outputs": [
    {
     "data": {
      "text/plain": [
       "<AxesSubplot:title={'center':'TOP 10 COUNTRIES FOR TV_SHOW'}, xlabel='exact country'>"
      ]
     },
     "execution_count": 54,
     "metadata": {},
     "output_type": "execute_result"
    },
    {
     "data": {
      "image/png": "[encoded data removed]",
      "text/plain": [
       "<Figure size 432x288 with 1 Axes>"
      ]
     },
     "metadata": {
      "needs_background": "light"
     },
     "output_type": "display_data"
    }
   ],
   "source": [
    "tv_show.plot(kind='bar',x=\"exact country\",title=\"TOP 10 COUNTRIES FOR TV_SHOW\")"
   ]
  },
  {
   "cell_type": "code",
   "execution_count": 55,
   "id": "457e01a2",
   "metadata": {},
   "outputs": [],
   "source": [
    "## most release duration for each type"
   ]
  },
  {
   "cell_type": "code",
   "execution_count": 56,
   "id": "e977a5fa",
   "metadata": {},
   "outputs": [
    {
     "name": "stdout",
     "output_type": "stream",
     "text": [
      "  exact duration   type  number of release\n",
      "0         90 min  movie                152\n",
      "1         97 min  movie                146\n",
      "2         94 min  movie                146\n",
      "3         93 min  movie                146\n",
      "4         91 min  movie                144\n",
      "  exact duration     type  number of release\n",
      "0       1 Season  TV Show               1793\n",
      "1      2 Seasons  TV Show                425\n",
      "2      3 Seasons  TV Show                199\n",
      "3      4 Seasons  TV Show                 95\n",
      "4      5 Seasons  TV Show                 65\n"
     ]
    }
   ],
   "source": [
    "duratype=net[[\"duration\",\"type\"]]\n",
    "movie=duratype.where(duratype[\"type\"]==\"Movie\")\n",
    "tv_show=duratype.where(duratype[\"type\"]==\"TV Show\")\n",
    "\n",
    "movie=movie[\"duration\"].value_counts()[:5]\n",
    "movie=pd.DataFrame(movie)\n",
    "movie=movie.rename_axis(\"exact duration\").reset_index()\n",
    "movie[\"type\"]= \"movie\"\n",
    "movie[\"number of release\"]=movie[\"duration\"]\n",
    "movie=movie.drop(\"duration\", axis=\"columns\")\n",
    "\n",
    "tv_show=tv_show[\"duration\"].value_counts()[:5]\n",
    "tv_show=pd.DataFrame(tv_show)\n",
    "tv_show=tv_show.rename_axis(\"exact duration\").reset_index()\n",
    "tv_show[\"type\"]=\"TV Show\"\n",
    "tv_show[\"number of release\"]=tv_show[\"duration\"]\n",
    "tv_show=tv_show.drop(\"duration\", axis=\"columns\")\n",
    "print(movie)\n",
    "print(tv_show)"
   ]
  },
  {
   "cell_type": "code",
   "execution_count": 57,
   "id": "c925de2c",
   "metadata": {},
   "outputs": [
    {
     "data": {
      "text/plain": [
       "<AxesSubplot:title={'center':'TOP 5 MOST RELEASED MOVIE DURATION'}, xlabel='exact duration'>"
      ]
     },
     "execution_count": 57,
     "metadata": {},
     "output_type": "execute_result"
    },
    {
     "data": {
      "image/png": "[encoded data removed]",
      "text/plain": [
       "<Figure size 720x576 with 1 Axes>"
      ]
     },
     "metadata": {
      "needs_background": "light"
     },
     "output_type": "display_data"
    }
   ],
   "source": [
    "movie.plot(kind='bar',x=\"exact duration\",title=\"TOP 5 MOST RELEASED MOVIE DURATION\",figsize=(10,8))"
   ]
  },
  {
   "cell_type": "code",
   "execution_count": 58,
   "id": "a45b55fc",
   "metadata": {},
   "outputs": [
    {
     "data": {
      "text/plain": [
       "<AxesSubplot:title={'center':'TOP 5 MOST RELEASED TV SHOW DURATION'}, xlabel='exact duration'>"
      ]
     },
     "execution_count": 58,
     "metadata": {},
     "output_type": "execute_result"
    },
    {
     "data": {
      "image/png": "[encoded data removed]",
      "text/plain": [
       "<Figure size 720x576 with 1 Axes>"
      ]
     },
     "metadata": {
      "needs_background": "light"
     },
     "output_type": "display_data"
    }
   ],
   "source": [
    "tv_show.plot(kind='bar',x=\"exact duration\",title=\"TOP 5 MOST RELEASED TV SHOW DURATION\",figsize=(10,8))"
   ]
  },
  {
   "cell_type": "markdown",
   "id": "d058f002",
   "metadata": {},
   "source": [
    "movie produced by rating"
   ]
  },
  {
   "cell_type": "code",
   "execution_count": 59,
   "id": "cd285041",
   "metadata": {},
   "outputs": [],
   "source": [
    "movrating=net[[\"type\",\"rating\"]]\n",
    "movie=movrating.where(duratype[\"type\"]==\"Movie\")\n",
    "tv_show=movrating.where(duratype[\"type\"]==\"TV Show\")\n",
    "\n",
    "movie=movie[\"rating\"].value_counts()[:5]\n",
    "movie=pd.DataFrame(movie)\n",
    "movie=movie.rename_axis(\"ratings\").reset_index()\n",
    "movie[\"number of rating\"]=movie[\"rating\"]\n",
    "movie=movie.drop(\"rating\", axis=\"columns\")\n",
    "\n",
    "\n",
    "tv_show=tv_show[\"rating\"].value_counts()[:5]\n",
    "tv_show=pd.DataFrame(tv_show)\n",
    "tv_show=tv_show.rename_axis(\"ratings\").reset_index()\n",
    "tv_show[\"number of rating\"]=tv_show[\"rating\"]\n",
    "tv_show=tv_show.drop(\"rating\", axis=\"columns\")\n"
   ]
  },
  {
   "cell_type": "code",
   "execution_count": 60,
   "id": "032d856b",
   "metadata": {},
   "outputs": [
    {
     "data": {
      "text/plain": [
       "<AxesSubplot:title={'center':'TOP 5 MOVIE RATINGS'}, xlabel='ratings'>"
      ]
     },
     "execution_count": 60,
     "metadata": {},
     "output_type": "execute_result"
    },
    {
     "data": {
      "image/png": "[encoded data removed]",
      "text/plain": [
       "<Figure size 720x576 with 1 Axes>"
      ]
     },
     "metadata": {
      "needs_background": "light"
     },
     "output_type": "display_data"
    }
   ],
   "source": [
    "movie.plot(kind='bar',x=\"ratings\",title=\"TOP 5 MOVIE RATINGS\",figsize=(10,8))"
   ]
  },
  {
   "cell_type": "code",
   "execution_count": 61,
   "id": "36e47619",
   "metadata": {},
   "outputs": [
    {
     "data": {
      "text/plain": [
       "<AxesSubplot:title={'center':'TOP 5 TV SHOW RATINGS'}, xlabel='ratings'>"
      ]
     },
     "execution_count": 61,
     "metadata": {},
     "output_type": "execute_result"
    },
    {
     "data": {
      "image/png": "[encoded data removed]",
      "text/plain": [
       "<Figure size 720x576 with 1 Axes>"
      ]
     },
     "metadata": {
      "needs_background": "light"
     },
     "output_type": "display_data"
    }
   ],
   "source": [
    "tv_show.plot(kind='bar',x=\"ratings\",title=\"TOP 5 TV SHOW RATINGS\",figsize=(10,8))"
   ]
  },
  {
   "cell_type": "code",
   "execution_count": 62,
   "id": "ed937683",
   "metadata": {},
   "outputs": [],
   "source": [
    "## CONSIDERING THE \"UNITED STATES\"  AND \"INDIA\" WHERE MOVIE ARE BEING PRODUCED MOST."
   ]
  },
  {
   "cell_type": "code",
   "execution_count": 63,
   "id": "c96b6e98",
   "metadata": {},
   "outputs": [],
   "source": [
    "us= net.where (net[\"country\"]==\"United States\")\n",
    "india= net.where(net[\"country\"]==\"India\")\n"
   ]
  },
  {
   "cell_type": "code",
   "execution_count": 64,
   "id": "7fe87fa2",
   "metadata": {},
   "outputs": [
    {
     "data": {
      "image/png": "[encoded data removed]",
      "text/plain": [
       "<Figure size 432x288 with 2 Axes>"
      ]
     },
     "metadata": {},
     "output_type": "display_data"
    }
   ],
   "source": [
    "plt.subplot(1,2,1)\n",
    "us[\"type\"].value_counts().plot(kind='pie')\n",
    "plt.title(\"United States\")\n",
    "plt.subplot(1,2,2)\n",
    "india[\"type\"].value_counts().plot(kind='pie')\n",
    "plt.title(\"India\")\n",
    "\n",
    "plt.show()"
   ]
  },
  {
   "cell_type": "code",
   "execution_count": 65,
   "id": "621e57f8",
   "metadata": {},
   "outputs": [
    {
     "data": {
      "image/png": "[encoded data removed]",
      "text/plain": [
       "<Figure size 432x288 with 2 Axes>"
      ]
     },
     "metadata": {},
     "output_type": "display_data"
    }
   ],
   "source": [
    "plt.subplot(1,2,1)\n",
    "us[\"type\"].where(us[\"year\"]==2021.0).value_counts().plot(kind='pie')\n",
    "plt.title(\"United States for 2021\")\n",
    "plt.subplot(1,2,2)\n",
    "india[\"type\"].where(india[\"year\"]==2021.0).value_counts().plot(kind='pie')\n",
    "plt.title(\"India for 2021\")\n",
    "plt.show()"
   ]
  }
 ],
 "metadata": {
  "kernelspec": {
   "display_name": "Python 3",
   "language": "python",
   "name": "python3"
  },
  "language_info": {
   "codemirror_mode": {
    "name": "ipython",
    "version": 3
   },
   "file_extension": ".py",
   "mimetype": "text/x-python",
   "name": "python",
   "nbconvert_exporter": "python",
   "pygments_lexer": "ipython3",
   "version": "3.8.8"
  }
 },
 "nbformat": 4,
 "nbformat_minor": 5
}
